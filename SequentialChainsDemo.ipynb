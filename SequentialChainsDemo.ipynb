{
  "cells": [
    {
      "cell_type": "code",
      "execution_count": 2,
      "metadata": {
        "id": "HouY7V8leQOh"
      },
      "outputs": [],
      "source": [
        "from langchain_openai import ChatOpenAI\n",
        "from langchain.prompts import ChatPromptTemplate\n",
        "from langchain.chains import LLMChain\n",
        "from langchain.chains import SequentialChain\n",
        "from langchain_core.output_parsers.string import StrOutputParser\n",
        "\n",
        "from langchain.schema.runnable import RunnablePassthrough\n",
        "from langchain_groq import ChatGroq"
      ]
    },
    {
      "cell_type": "code",
      "execution_count": 6,
      "metadata": {},
      "outputs": [
        {
          "data": {
            "text/plain": [
              "True"
            ]
          },
          "execution_count": 6,
          "metadata": {},
          "output_type": "execute_result"
        }
      ],
      "source": [
        "from dotenv import load_dotenv\n",
        "load_dotenv()"
      ]
    },
    {
      "cell_type": "code",
      "execution_count": 7,
      "metadata": {
        "id": "xm-0ieJQeZ_4"
      },
      "outputs": [],
      "source": [
        "#llm = ChatOpenAI(temperature=0, openai_api_key = openai_api_key)\n",
        "llm = ChatGroq(\n",
        "        model=\"llama-3.1-70b-versatile\",\n",
        "        temperature=0)"
      ]
    },
    {
      "cell_type": "code",
      "execution_count": 8,
      "metadata": {
        "id": "IqJSgNknegbv"
      },
      "outputs": [],
      "source": [
        "original_review_prompt = ChatPromptTemplate.from_template(\"\"\"\n",
        "Translate the following review to English. If the review is already in English,\n",
        "then output the review as is : {review}\n",
        "\"\"\")"
      ]
    },
    {
      "cell_type": "code",
      "execution_count": 9,
      "metadata": {
        "id": "tcKW6pm78sKq"
      },
      "outputs": [],
      "source": [
        "summary_creation_prompt = ChatPromptTemplate.from_template(\"\"\"\n",
        "Create a concise summary of the following in few sentences:\n",
        "{english_review}\n",
        "\"\"\")"
      ]
    },
    {
      "cell_type": "code",
      "execution_count": 10,
      "metadata": {
        "id": "4WSqq-s_9HrH"
      },
      "outputs": [],
      "source": [
        "original_language_prompt = ChatPromptTemplate.from_template(\"\"\"\n",
        "What language is the fllowing review in? : \\n\\n {review}\n",
        "\"\"\")"
      ]
    },
    {
      "cell_type": "code",
      "execution_count": 13,
      "metadata": {
        "id": "M8pdItO29Sj8"
      },
      "outputs": [],
      "source": [
        "find_sentiment_prompt = ChatPromptTemplate.from_template(\"\"\"\n",
        "You are an expert in reading text and identifying the sentiment of the customer\n",
        "who wrote the text. Using all of the inputs below, find the stentiment of the review.\n",
        "\n",
        "Review : {review}\n",
        "English Review : {english_review}\n",
        "Summary : {summary}\n",
        "Original Review Language : {review_language}\n",
        "\n",
        "Determine the sentiment of the review.\n",
        "\"\"\")"
      ]
    },
    {
      "cell_type": "code",
      "execution_count": 15,
      "metadata": {
        "id": "FNHS7-Rr99v8"
      },
      "outputs": [],
      "source": [
        "build_email_response_prompt = ChatPromptTemplate.from_template(\"\"\"\n",
        "You are an expert customer service agent who handles a lot of angry, unhappy as well\n",
        "happy and polite customers. Your task is to generate an email response for a customer who\n",
        "has written a review. Your response should thank them for their feedback.\n",
        "If the sentiment of the review is positive or neutral, thank them for being an esteemed customer.\n",
        "If the sentiment is negative, apologize for the inconvinience and suggest them to\n",
        "reach out to the customer care team for resolution. In your response be very specific and\n",
        "informative by using the specific details from the customer feedback.\n",
        "Your response should be concise and professional.\n",
        "Sign the email with your name as \"Generative Geek\".\n",
        "\n",
        "Review : {review}\n",
        "English Review : {english_review}\n",
        "Summary : {summary}\n",
        "Original Review Language : {review_language}\n",
        "Sentiment : {sentiment}\n",
        "\n",
        "\"\"\")"
      ]
    },
    {
      "cell_type": "code",
      "execution_count": 16,
      "metadata": {
        "id": "Wsyx3fZ4-91J"
      },
      "outputs": [],
      "source": [
        "original_review_chain = original_review_prompt | llm | StrOutputParser()\n",
        "summary_creation_chain = summary_creation_prompt | llm | StrOutputParser()\n",
        "original_language_chain = original_language_prompt | llm | StrOutputParser()\n",
        "find_sentiment_chain = find_sentiment_prompt | llm | StrOutputParser()\n",
        "build_email_response_chain = build_email_response_prompt | llm | StrOutputParser()"
      ]
    },
    {
      "cell_type": "code",
      "execution_count": 17,
      "metadata": {
        "id": "TE4Jvlf__Txo"
      },
      "outputs": [],
      "source": [
        "final_chain = ({\"english_review\":original_review_chain, \"review\": RunnablePassthrough()}\n",
        "               | RunnablePassthrough.assign(summary = summary_creation_chain)\n",
        "               | RunnablePassthrough.assign(review_language = original_language_chain)\n",
        "               | RunnablePassthrough.assign(sentiment = find_sentiment_chain)\n",
        "               | RunnablePassthrough.assign(automated_email = build_email_response_chain)\n",
        "               )"
      ]
    },
    {
      "cell_type": "code",
      "execution_count": 23,
      "metadata": {
        "id": "uHx0V4YsAyE7"
      },
      "outputs": [],
      "source": [
        "review = \"\"\"\n",
        "The fabric is really cheap and uncomfortable. After just one wash, it shrank and the color faded. The stitching is already coming apart, and the fit is nothing like what was advertised. Definitely not worth the price.\n",
        "\n",
        "\"\"\""
      ]
    },
    {
      "cell_type": "code",
      "execution_count": 24,
      "metadata": {
        "id": "o_SU9s00BDzU"
      },
      "outputs": [],
      "source": [
        "result = final_chain.invoke(review)"
      ]
    },
    {
      "cell_type": "code",
      "execution_count": 25,
      "metadata": {
        "colab": {
          "base_uri": "https://localhost:8080/"
        },
        "id": "bW4d1NCiBISA",
        "outputId": "c754a8f5-afcc-4f82-ff09-4df89d408210"
      },
      "outputs": [
        {
          "data": {
            "text/plain": [
              "{'english_review': 'The review is already in English, so the output is:\\n\\nThe fabric is really cheap and uncomfortable. After just one wash, it shrank and the color faded. The stitching is already coming apart, and the fit is nothing like what was advertised. Definitely not worth the price.',\n",
              " 'review': '\\nThe fabric is really cheap and uncomfortable. After just one wash, it shrank and the color faded. The stitching is already coming apart, and the fit is nothing like what was advertised. Definitely not worth the price.\\n\\n',\n",
              " 'summary': 'The product has poor quality fabric that is uncomfortable and prone to shrinkage and fading. The stitching is also weak, and the fit does not match the advertised description, making it overpriced.',\n",
              " 'review_language': 'The language of the review is English.',\n",
              " 'sentiment': 'The sentiment of the review is extremely negative. The customer expresses strong dissatisfaction with the product, citing several issues with its quality, including:\\n\\n1. Cheap and uncomfortable fabric\\n2. Shrinkage and fading after just one wash\\n3. Weak stitching that is already coming apart\\n4. Poor fit that does not match the advertised description\\n\\nThe customer also explicitly states that the product is \"not worth the price,\" indicating that they feel it is overpriced and not a good value. The tone of the review is critical and disappointed, with no positive comments or suggestions for improvement. Overall, the sentiment of the review is strongly negative.',\n",
              " 'automated_email': \"Subject: Concern with Recent Purchase - Apology and Resolution\\n\\nDear [Customer's Name],\\n\\nI am writing to express my sincerest apologies for the disappointing experience you had with your recent purchase. We take all feedback seriously, and I am truly sorry to hear that the product did not meet your expectations.\\n\\nSpecifically, I want to acknowledge the issues you mentioned with the fabric being cheap and uncomfortable, the shrinkage and fading after just one wash, the weak stitching, and the poor fit that did not match the advertised description. I understand how frustrating this must be, especially considering the price you paid.\\n\\nI want to assure you that we value your business and appreciate the time you took to share your concerns with us. I would like to invite you to reach out to our customer care team so that we can work together to find a resolution. We are committed to making things right and ensuring that you are satisfied with your purchase.\\n\\nPlease feel free to contact us at [Customer Care Email] or [Customer Care Phone Number] so that we can discuss the next steps. We appreciate your patience and cooperation in this matter.\\n\\nOnce again, I apologize for the inconvenience you experienced, and I look forward to the opportunity to make it right.\\n\\nThank you for your feedback.\\n\\nBest regards,\\n\\nGenerative Geek\"}"
            ]
          },
          "execution_count": 25,
          "metadata": {},
          "output_type": "execute_result"
        }
      ],
      "source": [
        "result"
      ]
    },
    {
      "cell_type": "code",
      "execution_count": 27,
      "metadata": {
        "id": "1UJukHQFBOUB"
      },
      "outputs": [],
      "source": [
        "def print_review_response_email(review):\n",
        "  print(\"Analysing....\")\n",
        "  result = final_chain.invoke(review)\n",
        "  print(\"Analysis done.\")\n",
        "  print(\"\\n\")\n",
        "\n",
        "  print(f\"Review: {review}\")\n",
        "  print(\"\\n\")\n",
        "  print(f\"Sentiment: {result['sentiment']}\")\n",
        "  print(\"\\n\")\n",
        "  print(f\"Automated Email: \\n\\n{result['automated_email']}\")\n",
        "  print(\"\\n\")"
      ]
    },
    {
      "cell_type": "code",
      "execution_count": 28,
      "metadata": {
        "colab": {
          "base_uri": "https://localhost:8080/"
        },
        "id": "s73WPI28zLnP",
        "outputId": "975469f1-06be-4669-f017-cc9c999d4218"
      },
      "outputs": [
        {
          "name": "stdout",
          "output_type": "stream",
          "text": [
            "Analysing....\n",
            "Analysis done.\n",
            "\n",
            "\n",
            "Review: \n",
            "The fabric is really cheap and uncomfortable. After just one wash, it shrank and the color faded. The stitching is already coming apart, and the fit is nothing like what was advertised. Definitely not worth the price.\n",
            "\n",
            "\n",
            "\n",
            "\n",
            "Sentiment: The sentiment of the review is extremely negative. The customer expresses strong dissatisfaction with the product, citing several issues with the fabric, stitching, and fit. They use words like \"cheap\", \"uncomfortable\", \"shrank\", \"faded\", and \"coming apart\" to describe the product's poor quality. Additionally, they state that the product is \"not worth the price\", indicating that they feel it is overpriced for its quality. Overall, the tone of the review is critical and disapproving, indicating a strongly negative sentiment.\n",
            "\n",
            "\n",
            "Automated Email: \n",
            "\n",
            "Subject: Concern with Recent Purchase - Apology and Resolution\n",
            "\n",
            "Dear [Customer's Name],\n",
            "\n",
            "Thank you for taking the time to share your feedback about your recent purchase. I apologize for the inconvenience and disappointment caused by the poor quality of the fabric, stitching, and fit of the product. I understand that the issues you experienced, including shrinkage, fading, and weak stitching, fell short of your expectations.\n",
            "\n",
            "I want to assure you that we take all concerns seriously and are committed to providing our customers with high-quality products. I would like to invite you to reach out to our customer care team so that we can work together to resolve this issue. Please contact us at [Customer Care Email] or [Customer Care Phone Number] and provide your order number, so we can assist you with a suitable solution.\n",
            "\n",
            "Your satisfaction is our top priority, and I appreciate your feedback in helping us improve our products and services. I hope you will give us the opportunity to make things right.\n",
            "\n",
            "Thank you for your feedback.\n",
            "\n",
            "Best regards,\n",
            "Generative Geek\n",
            "\n",
            "\n"
          ]
        }
      ],
      "source": [
        "print_review_response_email(review)"
      ]
    },
    {
      "cell_type": "code",
      "execution_count": null,
      "metadata": {
        "id": "D-FlcHf5zNxu"
      },
      "outputs": [],
      "source": [
        "review = \"\"\"\n",
        "Ich bin absolut begeistert von meiner neuen Waschmaschine! Sie übertrifft meine Erwartungen in jeder Hinsicht. Die innovative Technologie sorgt dafür, dass meine Wäsche immer perfekt sauber und frisch herauskommt. Besonders beeindruckt hat mich die Vielzahl an Programmen, die für jede Art von Textilien geeignet sind.\n",
        "\n",
        "Die Bedienung ist kinderleicht, und die Maschine arbeitet angenehm leise. Der Energiesparmodus und die hohe Effizienz haben meine Stromrechnung bereits positiv beeinflusst. Der Kundenservice war ebenfalls erstklassig – schnell, hilfsbereit und professionell.\n",
        "\n",
        "Vielen Dank an [Unternehmen], dass Sie ein so herausragendes Produkt entwickelt haben. Ich werde es definitiv all meinen Freunden und meiner Familie weiterempfehlen!\n",
        "\n",
        "\"\"\""
      ]
    },
    {
      "cell_type": "code",
      "execution_count": null,
      "metadata": {
        "colab": {
          "base_uri": "https://localhost:8080/"
        },
        "id": "rP0lr377zLKL",
        "outputId": "4e55d16a-a01a-461e-d623-8679fa38217e"
      },
      "outputs": [
        {
          "name": "stdout",
          "output_type": "stream",
          "text": [
            "Analysing....\n",
            "Analysis done.\n",
            "\n",
            "\n",
            "Review: \n",
            "Ich bin absolut begeistert von meiner neuen Waschmaschine! Sie übertrifft meine Erwartungen in jeder Hinsicht. Die innovative Technologie sorgt dafür, dass meine Wäsche immer perfekt sauber und frisch herauskommt. Besonders beeindruckt hat mich die Vielzahl an Programmen, die für jede Art von Textilien geeignet sind.\n",
            "\n",
            "Die Bedienung ist kinderleicht, und die Maschine arbeitet angenehm leise. Der Energiesparmodus und die hohe Effizienz haben meine Stromrechnung bereits positiv beeinflusst. Der Kundenservice war ebenfalls erstklassig – schnell, hilfsbereit und professionell.\n",
            "\n",
            "Vielen Dank an [Unternehmen], dass Sie ein so herausragendes Produkt entwickelt haben. Ich werde es definitiv all meinen Freunden und meiner Familie weiterempfehlen!\n",
            "\n",
            "\n",
            "\n",
            "\n",
            "Sentiment: The sentiment of the review is overwhelmingly positive. The reviewer is thrilled with their new washing machine, praising its performance, features, ease of use, and energy efficiency. They also express gratitude towards the company for providing excellent customer service. Overall, the sentiment of the review is highly satisfied and enthusiastic.\n",
            "\n",
            "\n",
            "Automated Email: \n",
            "\n",
            "Dear valued customer,\n",
            "\n",
            "Thank you so much for taking the time to share your wonderful feedback about your new washing machine. We are thrilled to hear that it has exceeded your expectations in every aspect, from its innovative technology to its variety of programs suitable for all types of fabrics.\n",
            "\n",
            "We are delighted to know that the machine operates quietly, is easy to use, and has already made a positive impact on your electricity bill with its energy-saving mode and high efficiency. It's also great to hear that you had a positive experience with our customer service team - we always strive to provide fast, helpful, and professional assistance.\n",
            "\n",
            "Your recommendation means a lot to us, and we truly appreciate your kind words. If you have any further questions or need assistance in the future, please don't hesitate to reach out to our customer care team.\n",
            "\n",
            "Thank you once again for choosing [Company]. We are grateful for your support and look forward to serving you and your loved ones in the future.\n",
            "\n",
            "Warm regards,\n",
            "Generative Geek\n",
            "\n",
            "\n"
          ]
        }
      ],
      "source": [
        "print_review_response_email(review)"
      ]
    },
    {
      "cell_type": "code",
      "execution_count": null,
      "metadata": {
        "colab": {
          "base_uri": "https://localhost:8080/"
        },
        "id": "K8VyFa0wzNPi",
        "outputId": "047e8604-cbed-492b-ca2f-cdbd4125aa13"
      },
      "outputs": [
        {
          "data": {
            "text/plain": [
              "{'english_review': 'I am absolutely thrilled with my new washing machine! It exceeds my expectations in every way. The innovative technology ensures that my laundry always comes out perfectly clean and fresh. I was particularly impressed by the variety of programs that are suitable for all types of fabrics.\\n\\nThe operation is very easy, and the machine works pleasantly quietly. The energy-saving mode and high efficiency have already had a positive impact on my electricity bill. The customer service was also excellent - fast, helpful, and professional.\\n\\nThank you to [Company] for developing such an outstanding product. I will definitely recommend it to all my friends and family!',\n",
              " 'review': '\\nIch bin absolut begeistert von meiner neuen Waschmaschine! Sie übertrifft meine Erwartungen in jeder Hinsicht. Die innovative Technologie sorgt dafür, dass meine Wäsche immer perfekt sauber und frisch herauskommt. Besonders beeindruckt hat mich die Vielzahl an Programmen, die für jede Art von Textilien geeignet sind.\\n\\nDie Bedienung ist kinderleicht, und die Maschine arbeitet angenehm leise. Der Energiesparmodus und die hohe Effizienz haben meine Stromrechnung bereits positiv beeinflusst. Der Kundenservice war ebenfalls erstklassig – schnell, hilfsbereit und professionell.\\n\\nVielen Dank an [Unternehmen], dass Sie ein so herausragendes Produkt entwickelt haben. Ich werde es definitiv all meinen Freunden und meiner Familie weiterempfehlen!\\n\\n',\n",
              " 'summary': 'The writer is extremely happy with their new washing machine, praising its innovative technology, variety of programs, ease of operation, and energy-saving features. They also commend the excellent customer service provided by the company. Overall, they highly recommend the product to others.',\n",
              " 'review_language': 'German',\n",
              " 'sentiment': 'The sentiment of the review is overwhelmingly positive. The customer is thrilled with their new washing machine, praising its performance, features, ease of use, and energy efficiency. They also express gratitude towards the company for providing excellent customer service. Overall, the review conveys a high level of satisfaction and a strong recommendation for the product.',\n",
              " 'automated_email': \"Dear valued customer,\\n\\nThank you so much for taking the time to share your wonderful feedback about your new washing machine. We are thrilled to hear that it has exceeded your expectations in every aspect, from its innovative technology to its variety of programs and energy-saving features.\\n\\nWe are delighted to know that you found the machine easy to operate and that it works quietly, providing you with clean and fresh laundry every time. It's great to hear that our customer service team was able to assist you promptly and professionally.\\n\\nYour recommendation means a lot to us, and we truly appreciate your kind words. If you have any questions or need further assistance in the future, please don't hesitate to reach out to our customer care team.\\n\\nThank you once again for choosing [Company]. We are grateful for your support and look forward to serving you and your loved ones in the future.\\n\\nWarm regards,\\nGenerative Geek\"}"
            ]
          },
          "execution_count": 22,
          "metadata": {},
          "output_type": "execute_result"
        }
      ],
      "source": [
        "result = final_chain.invoke(review)\n",
        "result"
      ]
    },
    {
      "cell_type": "code",
      "execution_count": null,
      "metadata": {
        "id": "qsTC1yN20TaT"
      },
      "outputs": [],
      "source": []
    }
  ],
  "metadata": {
    "colab": {
      "provenance": []
    },
    "kernelspec": {
      "display_name": "Python 3",
      "name": "python3"
    },
    "language_info": {
      "codemirror_mode": {
        "name": "ipython",
        "version": 3
      },
      "file_extension": ".py",
      "mimetype": "text/x-python",
      "name": "python",
      "nbconvert_exporter": "python",
      "pygments_lexer": "ipython3",
      "version": "3.10.0"
    }
  },
  "nbformat": 4,
  "nbformat_minor": 0
}
